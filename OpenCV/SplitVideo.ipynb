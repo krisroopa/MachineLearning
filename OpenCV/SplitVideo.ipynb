{
 "cells": [
  {
   "cell_type": "markdown",
   "metadata": {},
   "source": [
    "# SplitVideo -\n",
    "\n",
    "Read a video and splitting it into smaller number of equal frames for a given frame size"
   ]
  },
  {
   "cell_type": "code",
   "execution_count": 1,
   "metadata": {},
   "outputs": [],
   "source": [
    "import cv2\n",
    "import os\n",
    "FRAME_SIZE = 50"
   ]
  },
  {
   "cell_type": "code",
   "execution_count": 2,
   "metadata": {},
   "outputs": [],
   "source": [
    "def list2range(lst):\n",
    "    rangeList = []\n",
    "    for idx, val in enumerate(lst):\n",
    "        if idx == len(lst)-2:\n",
    "            if (lst[idx] - lst[idx-1]) > (lst[idx+1] - lst[idx]):\n",
    "                rangeValue = (lst[idx], lst[idx+1])\n",
    "                rangeList.append(rangeValue)\n",
    "            else:\n",
    "                rangeValue = (lst[idx], lst[idx+1]-1)\n",
    "                rangeList.append(rangeValue)                     \n",
    "                rangeValue = (rangeList[-1][-1] +1, lst[idx])\n",
    "                rangeList.append(rangeValue)\n",
    "            return rangeList        \n",
    "        rangeValue = (lst[idx], lst[idx+1]-1)\n",
    "        rangeList.append(rangeValue)"
   ]
  },
  {
   "cell_type": "code",
   "execution_count": 3,
   "metadata": {},
   "outputs": [],
   "source": [
    "try:\n",
    "    if not os.path.exists('data'):\n",
    "        os.makedirs('data')\n",
    "except OSError:\n",
    "    print ('Error: Creating directory of data')"
   ]
  },
  {
   "cell_type": "markdown",
   "metadata": {},
   "source": [
    "## Splitting Video to smaller frames \n",
    "\n",
    "Find the total number of frames and split the video into smaller frames of framesize = 50 and write them into individual files\n"
   ]
  },
  {
   "cell_type": "code",
   "execution_count": 4,
   "metadata": {},
   "outputs": [],
   "source": [
    "vidPath = 'IMG_0612.MOV'\n",
    "outputPath = 'data/%d.avi' # output path (must be avi, otherwize choose other codecs)\n",
    "\n",
    "#Instantiate videocapture\n",
    "cap = cv2.VideoCapture(vidPath)\n",
    "\n",
    "#Get the total number of frames, frames per second, frame size. \n",
    "totalFrame = int(cap.get(cv2.CAP_PROP_FRAME_COUNT))\n",
    "fps = int(cap.get(cv2.CAP_PROP_FPS))\n",
    "size = (int(cap.get(cv2.CAP_PROP_FRAME_WIDTH)),int(cap.get(cv2.CAP_PROP_FRAME_HEIGHT)))\n",
    "fourcc = int(cv2.VideoWriter_fourcc('X','V','I','D')) # XVID codecs\n",
    "\n",
    "#Create a list of frame ranges based on the total number of frames and a range value of 50\n",
    "frameSplit = list(range(0,totalFrame+1, FRAME_SIZE))\n",
    "if frameSplit[-1] != totalFrame:\n",
    "    frameSplit.append(totalFrame)\n",
    "segRange = list2range(frameSplit)\n",
    "\n",
    "#Iterate the list of frame ranges and read and write a new video file for every frame range.\n",
    "for idx,(begFidx,endFidx) in enumerate(segRange):\n",
    "    writer = cv2.VideoWriter(outputPath%idx,fourcc,fps,size)\n",
    "    cap.set(cv2.CAP_PROP_POS_FRAMES,begFidx)\n",
    "    ret = True # has frame returned\n",
    "    while(cap.isOpened() and ret and writer.isOpened()):\n",
    "        ret, frame = cap.read()\n",
    "        frame_number = cap.get(cv2.CAP_PROP_POS_FRAMES) - 1\n",
    "        if frame_number < endFidx:\n",
    "            writer.write(frame)\n",
    "        else:\n",
    "            break\n",
    "    writer.release()\n",
    "cap.release()\n",
    "cv2.destroyAllWindows()"
   ]
  },
  {
   "cell_type": "code",
   "execution_count": 138,
   "metadata": {},
   "outputs": [],
   "source": []
  },
  {
   "cell_type": "code",
   "execution_count": null,
   "metadata": {},
   "outputs": [],
   "source": []
  }
 ],
 "metadata": {
  "kernelspec": {
   "display_name": "Python [default]",
   "language": "python",
   "name": "python3"
  },
  "language_info": {
   "codemirror_mode": {
    "name": "ipython",
    "version": 3
   },
   "file_extension": ".py",
   "mimetype": "text/x-python",
   "name": "python",
   "nbconvert_exporter": "python",
   "pygments_lexer": "ipython3",
   "version": "3.6.5"
  }
 },
 "nbformat": 4,
 "nbformat_minor": 2
}
